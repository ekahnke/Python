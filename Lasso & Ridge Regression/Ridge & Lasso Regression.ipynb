{
 "cells": [
  {
   "cell_type": "markdown",
   "metadata": {
    "collapsed": true
   },
   "source": [
    "# Ridge/Lasso in Python"
   ]
  },
  {
   "cell_type": "markdown",
   "metadata": {},
   "source": [
    "Run a 5-fold cross validation. For the sweep of the regularization parameter, use [0.00001,0.0001,0.001,0.005,0.01,0.05,0.1] for ridge and [0.0001,0.0005,0.001,0.005,0.01,0.05,0.1,0.2,0.3,0.4,0.5] for lasso."
   ]
  },
  {
   "cell_type": "code",
   "execution_count": 10,
   "metadata": {
    "collapsed": true
   },
   "outputs": [],
   "source": [
    "import pandas as pd\n",
    "import numpy as np \n",
    "from sklearn import preprocessing\n",
    "from sklearn.linear_model import Ridge\n",
    "from sklearn.linear_model import Lasso\n",
    "from sklearn.linear_model import LinearRegression\n",
    "import matplotlib.pyplot as plt\n",
    "from matplotlib.backends.backend_pdf import PdfPages\n",
    "from sklearn.metrics import mean_squared_error"
   ]
  },
  {
   "cell_type": "code",
   "execution_count": 11,
   "metadata": {
    "collapsed": true
   },
   "outputs": [],
   "source": [
    "bosDer_train = pd.read_csv('bostonderived_train.csv')\n",
    "bosDer_test = pd.read_csv('bostonderived_test.csv')\n",
    "bosDer_folds = pd.read_csv('bostonderived_folds.csv',header = False)"
   ]
  },
  {
   "cell_type": "code",
   "execution_count": 12,
   "metadata": {
    "collapsed": true
   },
   "outputs": [],
   "source": [
    "x_train = bosDer_train[['lstat','rm','chas','indus','tax','rad','black']]\n",
    "y_train = bosDer_train['medv']\n",
    "x_test = bosDer_test[['lstat','rm','chas','indus','tax','rad','black']]\n",
    "y_test = bosDer_test['medv']"
   ]
  },
  {
   "cell_type": "code",
   "execution_count": 13,
   "metadata": {
    "collapsed": false
   },
   "outputs": [],
   "source": [
    "bosDer_folds.index = bosDer_folds.index + 1 \n",
    "bosDer_folds.columns  = ['folds']\n",
    "bosDer_folds.loc[0] = 1\n",
    "bosDer_folds = bosDer_folds.sort()"
   ]
  },
  {
   "cell_type": "code",
   "execution_count": 14,
   "metadata": {
    "collapsed": true
   },
   "outputs": [],
   "source": [
    "validation = bosDer_folds['folds'] == 0\n",
    "train = ~validation\n",
    "x_train_0 = x_train[train]\n",
    "x_valid_0 = x_train[validation]\n",
    "y_train_0 = y_train[train]\n",
    "y_valid_0 = y_train[validation]"
   ]
  },
  {
   "cell_type": "code",
   "execution_count": 15,
   "metadata": {
    "collapsed": true
   },
   "outputs": [],
   "source": [
    "validation = bosDer_folds['folds'] == 1\n",
    "train = ~validation\n",
    "x_train_1 = x_train[train]\n",
    "x_valid_1 = x_train[validation]\n",
    "y_train_1 = y_train[train]\n",
    "y_valid_1 = y_train[validation]"
   ]
  },
  {
   "cell_type": "code",
   "execution_count": 16,
   "metadata": {
    "collapsed": true
   },
   "outputs": [],
   "source": [
    "validation = bosDer_folds['folds'] == 2\n",
    "train = ~validation\n",
    "x_train_2 = x_train[train]\n",
    "x_valid_2 = x_train[validation]\n",
    "y_train_2 = y_train[train]\n",
    "y_valid_2 = y_train[validation]"
   ]
  },
  {
   "cell_type": "code",
   "execution_count": 17,
   "metadata": {
    "collapsed": true
   },
   "outputs": [],
   "source": [
    "validation = bosDer_folds['folds'] == 3\n",
    "train = ~validation\n",
    "x_train_3 = x_train[train]\n",
    "x_valid_3 = x_train[validation]\n",
    "y_train_3 = y_train[train]\n",
    "y_valid_3 = y_train[validation]"
   ]
  },
  {
   "cell_type": "code",
   "execution_count": 18,
   "metadata": {
    "collapsed": true
   },
   "outputs": [],
   "source": [
    "validation = bosDer_folds['folds'] == 4\n",
    "train = ~validation\n",
    "x_train_4 = x_train[train]\n",
    "x_valid_4 = x_train[validation]\n",
    "y_train_4 = y_train[train]\n",
    "y_valid_4 = y_train[validation]"
   ]
  },
  {
   "cell_type": "code",
   "execution_count": 19,
   "metadata": {
    "collapsed": true
   },
   "outputs": [],
   "source": [
    "x_training_list = [x_train_0,x_train_1,x_train_2,x_train_3,x_train_4]\n",
    "x_validation_list = [x_valid_0,x_valid_1,x_valid_2,x_valid_3,x_valid_4]\n",
    "y_training_list = [y_train_0,y_train_1,y_train_2,y_train_3,y_train_4]\n",
    "y_validation_list = [y_valid_0,y_valid_1,y_valid_2,y_valid_3,y_valid_4]"
   ]
  },
  {
   "cell_type": "code",
   "execution_count": 20,
   "metadata": {
    "collapsed": false
   },
   "outputs": [],
   "source": [
    "ridge_alpha = [0.00001, 0.0001, 0.001, 0.005, 0.01, 0.05, 0.1,1,10,100,1000,10000]\n",
    "lasso_alpha = [0.0001, 0.0005, 0.001, 0.005, 0.01, 0.05, 0.1, 0.2, 0.3, 0.4, 0.5]"
   ]
  },
  {
   "cell_type": "code",
   "execution_count": 21,
   "metadata": {
    "collapsed": false
   },
   "outputs": [
    {
     "name": "stdout",
     "output_type": "stream",
     "text": [
      "1e-05\n",
      "31.2435601653\n",
      "0.0001\n",
      "31.2435552626\n",
      "0.001\n",
      "31.2435062407\n",
      "0.005\n",
      "31.2432884693\n",
      "0.01\n",
      "31.2430164938\n",
      "0.05\n",
      "31.2408502064\n",
      "0.1\n",
      "31.2381659776\n",
      "1\n",
      "31.1940432727\n",
      "10\n",
      "31.0113788648\n",
      "100\n",
      "32.6166520267\n",
      "1000\n",
      "37.3148970393\n",
      "10000\n",
      "43.9708474401\n"
     ]
    }
   ],
   "source": [
    "ridge_mse_alpha = []\n",
    "for alpha in ridge_alpha:\n",
    "    print alpha\n",
    "    r_mse = []\n",
    "    for i in range(5):\n",
    "        xtrain = x_training_list[i]\n",
    "        xvalid = x_validation_list[i]\n",
    "        ytrain = y_training_list[i]\n",
    "        yvalid = y_validation_list[i]\n",
    "        model = Ridge(alpha = alpha)\n",
    "        predict = model.fit(xtrain,ytrain).predict(xvalid)\n",
    "        mse_param = mean_squared_error(yvalid,predict)\n",
    "        r_mse.append(mse_param)\n",
    "    print np.mean(r_mse)\n",
    "    ridge_mse_alpha.append(np.mean(r_mse))"
   ]
  },
  {
   "cell_type": "code",
   "execution_count": 24,
   "metadata": {
    "collapsed": false
   },
   "outputs": [
    {
     "name": "stdout",
     "output_type": "stream",
     "text": [
      "0.0001\n",
      "31.2435226933\n",
      "0.0005\n",
      "31.2433750833\n",
      "0.001\n",
      "31.2432006274\n",
      "0.005\n",
      "31.2422069452\n",
      "0.01\n",
      "31.2419696764\n",
      "0.05\n",
      "31.2802705912\n",
      "0.1\n",
      "31.31352683\n",
      "0.2\n",
      "31.3352774583\n",
      "0.3\n",
      "31.4618345123\n",
      "0.4\n",
      "31.6413984545\n",
      "0.5\n",
      "31.8786546265\n"
     ]
    }
   ],
   "source": [
    "lasso_mse_alpha = []\n",
    "for alpha in lasso_alpha:\n",
    "    print alpha\n",
    "    l_mse = []\n",
    "    for i in range(5):\n",
    "        xtrain = x_training_list[i]\n",
    "        xvalid = x_validation_list[i]\n",
    "        ytrain = y_training_list[i]\n",
    "        yvalid = y_validation_list[i]\n",
    "        model = Lasso(alpha = alpha)\n",
    "        predict = model.fit(xtrain,ytrain).predict(xvalid)\n",
    "        mse_param = mean_squared_error(yvalid,predict)\n",
    "        l_mse.append(mse_param)\n",
    "    print np.mean(l_mse)\n",
    "    lasso_mse_alpha.append(np.mean(l_mse))"
   ]
  },
  {
   "cell_type": "markdown",
   "metadata": {
    "collapsed": true
   },
   "source": [
    "Report the best parameter chosen based on cross-validation. "
   ]
  },
  {
   "cell_type": "code",
   "execution_count": 25,
   "metadata": {
    "collapsed": false
   },
   "outputs": [
    {
     "name": "stdout",
     "output_type": "stream",
     "text": [
      "Best Parameter for Ridge:\n",
      "10\n",
      "Best Parameter for Lasso\n",
      "0.01\n"
     ]
    }
   ],
   "source": [
    "print \"Best Parameter for Ridge:\"    \n",
    "print ridge_alpha[ridge_mse_alpha.index(np.min(ridge_mse_alpha))]\n",
    "print \"Best Parameter for Lasso\"\n",
    "print lasso_alpha[lasso_mse_alpha.index(np.min(lasso_mse_alpha))]"
   ]
  },
  {
   "cell_type": "markdown",
   "metadata": {},
   "source": [
    "Run ridge and lasso for all of the parameters speciﬁed above, and plot the coeﬃcients learned for each of them"
   ]
  },
  {
   "cell_type": "code",
   "execution_count": 28,
   "metadata": {
    "collapsed": false
   },
   "outputs": [
    {
     "name": "stdout",
     "output_type": "stream",
     "text": [
      "Ridge Regression\n"
     ]
    },
    {
     "data": {
      "text/plain": [
       "[<matplotlib.lines.Line2D at 0x30dff710>]"
      ]
     },
     "execution_count": 28,
     "metadata": {},
     "output_type": "execute_result"
    },
    {
     "data": {
      "image/png": "[encoded data removed]",
      "text/plain": [
       "<matplotlib.figure.Figure at 0x30c516a0>"
      ]
     },
     "metadata": {},
     "output_type": "display_data"
    }
   ],
   "source": [
    "print 'Ridge Regression'\n",
    "plt.plot(ridge_alpha,ridge_mse_alpha)"
   ]
  },
  {
   "cell_type": "code",
   "execution_count": 30,
   "metadata": {
    "collapsed": false
   },
   "outputs": [
    {
     "name": "stdout",
     "output_type": "stream",
     "text": [
      "Lasso Regression\n"
     ]
    },
    {
     "data": {
      "text/plain": [
       "[<matplotlib.lines.Line2D at 0x312786a0>]"
      ]
     },
     "execution_count": 30,
     "metadata": {},
     "output_type": "execute_result"
    },
    {
     "data": {
      "image/png": "[encoded data removed]",
      "text/plain": [
       "<matplotlib.figure.Figure at 0x30fd2b00>"
      ]
     },
     "metadata": {},
     "output_type": "display_data"
    }
   ],
   "source": [
    "print 'Lasso Regression'\n",
    "plt.plot(lasso_alpha,lasso_mse_alpha)"
   ]
  },
  {
   "cell_type": "markdown",
   "metadata": {},
   "source": [
    "As the value of the regularization parameter increases the mse for ridge regression increases steeply from 100 until 1,000 after which the rate of increase declines, and the mse for lasso regression increases gradually initially then increases at a larger rate when the parameter is greater than 0.2."
   ]
  },
  {
   "cell_type": "markdown",
   "metadata": {},
   "source": [
    "Run least squares regression, ridge, and lasso on the full training data. For ridge and lasso, use only the best regularization parameter selected above. Report the prediction error on the test data for each."
   ]
  },
  {
   "cell_type": "code",
   "execution_count": 32,
   "metadata": {
    "collapsed": false
   },
   "outputs": [
    {
     "name": "stdout",
     "output_type": "stream",
     "text": [
      "Multiple Linear Regression Prediction Error on Test Data: 24.8310760554\n",
      "Ridge Regression Prediction Error on Test Data: 25.1117495579\n",
      "Lasso Regression Prediction Error on Test Data: 24.8756410098\n"
     ]
    }
   ],
   "source": [
    "model = LinearRegression()\n",
    "predict = model.fit(x_train,y_train).predict(x_test)\n",
    "mlr_mse = mean_squared_error(y_test,predict)\n",
    "print 'Multiple Linear Regression Prediction Error on Test Data: ' + str(mlr_mse)\n",
    "\n",
    "model = Ridge(alpha = 10)\n",
    "predict = model.fit(x_train,y_train).predict(x_test)\n",
    "ridge_mse = mean_squared_error(y_test,predict)\n",
    "print 'Ridge Regression Prediction Error on Test Data: ' + str(ridge_mse)\n",
    "\n",
    "model = Lasso(alpha = 0.01)\n",
    "lasso = model.fit(x_train,y_train)\n",
    "predict = model.fit(x_train,y_train).predict(x_test)\n",
    "lasso_mse = mean_squared_error(y_test,predict)\n",
    "print 'Lasso Regression Prediction Error on Test Data: ' + str(lasso_mse)"
   ]
  },
  {
   "cell_type": "markdown",
   "metadata": {},
   "source": [
    "For the best lasso parameter, determine the variables that were not dropped. Using only these variables, run least squares regression on full training data and report the prediction error on the test data."
   ]
  },
  {
   "cell_type": "code",
   "execution_count": 33,
   "metadata": {
    "collapsed": false
   },
   "outputs": [
    {
     "name": "stdout",
     "output_type": "stream",
     "text": [
      "Features used in Lasso Regression: \n",
      "['lstat' 'rm' 'chas' 'indus' 'tax' 'rad' 'black']\n",
      "Multiple Linear Regression with Lasso Features Prediction Error on Test Data: 24.8310760554\n"
     ]
    }
   ],
   "source": [
    "used_lasso_features = x_train.columns.values[np.nonzero(lasso.coef_)]\n",
    "print 'Features used in Lasso Regression: '\n",
    "print used_lasso_features\n",
    "model = LinearRegression()\n",
    "predict = model.fit(x_train[used_lasso_features],y_train).predict(x_test[used_lasso_features])\n",
    "mlr_lasso_features_mse = mean_squared_error(y_test,predict)\n",
    "print 'Multiple Linear Regression with Lasso Features Prediction Error on Test Data: ' + str(mlr_lasso_features_mse)"
   ]
  },
  {
   "cell_type": "markdown",
   "metadata": {},
   "source": [
    "Compare the variables that were dropped by lasso to the ones you dropped in the last homework by examining the p-values. Are they the same?"
   ]
  },
  {
   "cell_type": "code",
   "execution_count": 34,
   "metadata": {
    "collapsed": false
   },
   "outputs": [
    {
     "name": "stdout",
     "output_type": "stream",
     "text": [
      "['lstat' 'rm' 'chas' 'indus' 'tax' 'rad' 'black']\n",
      "['lstat' 'rm' 'chas' 'indus' 'tax' 'rad' 'black']\n"
     ]
    }
   ],
   "source": [
    "print x_train.columns.values\n",
    "print used_lasso_features"
   ]
  },
  {
   "cell_type": "markdown",
   "metadata": {},
   "source": [
    "Features Dropped by Lasso: None\n",
    "Features Dropped by P-values in HW1: INDUS & RAD\n",
    "Using the best parameter (0.01), lasso regression did not drop any variables, thus, the error in part (d) is the same as the error for MLR in part (c)."
   ]
  },
  {
   "cell_type": "code",
   "execution_count": null,
   "metadata": {
    "collapsed": true
   },
   "outputs": [],
   "source": []
  }
 ],
 "metadata": {
  "kernelspec": {
   "display_name": "Python 2",
   "language": "python",
   "name": "python2"
  },
  "language_info": {
   "codemirror_mode": {
    "name": "ipython",
    "version": 2
   },
   "file_extension": ".py",
   "mimetype": "text/x-python",
   "name": "python",
   "nbconvert_exporter": "python",
   "pygments_lexer": "ipython2",
   "version": "2.7.10"
  }
 },
 "nbformat": 4,
 "nbformat_minor": 0
}
