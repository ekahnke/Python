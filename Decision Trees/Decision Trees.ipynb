{
 "cells": [
  {
   "cell_type": "markdown",
   "metadata": {},
   "source": [
    "#Decision Trees\n",
    "\n",
    "Build two diﬀerent trees with a maximum depth of two using the split criteria (i) Gini and (ii) Entropy. Plot the two trees."
   ]
  },
  {
   "cell_type": "code",
   "execution_count": 20,
   "metadata": {
    "collapsed": true
   },
   "outputs": [],
   "source": [
    "from sklearn import tree\n",
    "import os\n",
    "import subprocess\n",
    "from sklearn import tree\n",
    "import numpy as np\n",
    "from sklearn.tree import DecisionTreeClassifier, export_graphviz\n",
    "from pandas import Series, DataFrame\n",
    "from patsy import dmatrices\n",
    "import warnings\n",
    "import pandas as pd\n",
    "from sklearn import metrics\n",
    "from sklearn.metrics import f1_score"
   ]
  },
  {
   "cell_type": "code",
   "execution_count": 21,
   "metadata": {
    "collapsed": true
   },
   "outputs": [],
   "source": [
    "data = pd.read_csv(\"BreastCancer.csv\")\n",
    "train_idx1=pd.read_csv(\"train_idx1.csv\",header=None)\n",
    "train_idx2=pd.read_csv(\"train_idx2.csv\",header=None)\n",
    "test_data=pd.read_csv(\"test_idx.csv\",header=None)"
   ]
  },
  {
   "cell_type": "code",
   "execution_count": 22,
   "metadata": {
    "collapsed": false
   },
   "outputs": [],
   "source": [
    "train1=data.ix[train_idx1[0]]\n",
    "train2=data.ix[train_idx2[0]]\n",
    "test=data.ix[test_data[0]]"
   ]
  },
  {
   "cell_type": "code",
   "execution_count": 23,
   "metadata": {
    "collapsed": false
   },
   "outputs": [],
   "source": [
    "y_train1=train1['diagnosis']\n",
    "X_train1=train1.drop(['id','diagnosis'],axis=1)\n",
    "y_train2=train2['diagnosis']\n",
    "X_train2=train2.drop(['id','diagnosis'],axis=1)\n",
    "y_test=test['diagnosis']\n",
    "X_test=test.drop(['id','diagnosis'],axis=1)"
   ]
  },
  {
   "cell_type": "code",
   "execution_count": 24,
   "metadata": {
    "collapsed": false
   },
   "outputs": [
    {
     "name": "stdout",
     "output_type": "stream",
     "text": [
      "0.92243767313\n",
      "0.89010989011\n"
     ]
    },
    {
     "data": {
      "text/plain": [
       "0.875"
      ]
     },
     "execution_count": 24,
     "metadata": {},
     "output_type": "execute_result"
    }
   ],
   "source": [
    "model_ent = tree.DecisionTreeClassifier(criterion='entropy',max_depth=2)\n",
    "result_ent = model_ent.fit(X_train1, y_train1)\n",
    "prediction_train_ent = model_ent.predict(X_train1)\n",
    "print metrics.accuracy_score(y_train1, prediction_train_ent)\n",
    "prediction_ent = model_ent.predict(X_test)\n",
    "print metrics.accuracy_score(y_test, prediction_ent)\n",
    "f1_score(y_test, prediction_ent, pos_label = 'M')"
   ]
  },
  {
   "cell_type": "code",
   "execution_count": 25,
   "metadata": {
    "collapsed": false
   },
   "outputs": [
    {
     "name": "stdout",
     "output_type": "stream",
     "text": [
      "0.950138504155\n",
      "0.956043956044\n"
     ]
    },
    {
     "data": {
      "text/plain": [
       "0.95000000000000007"
      ]
     },
     "execution_count": 25,
     "metadata": {},
     "output_type": "execute_result"
    }
   ],
   "source": [
    "model_gini = tree.DecisionTreeClassifier(criterion='gini',max_depth=2)\n",
    "result_gini = model_gini.fit(X_train1, y_train1)\n",
    "prediction_train_gini = model_gini.predict(X_train1)\n",
    "print metrics.accuracy_score(y_train1, prediction_train_gini)\n",
    "prediction_gini = model_gini.predict(X_test)\n",
    "print metrics.accuracy_score(y_test, prediction_gini)\n",
    "f1_score(y_test, prediction_gini, pos_label = 'M')"
   ]
  },
  {
   "cell_type": "code",
   "execution_count": 26,
   "metadata": {
    "collapsed": true
   },
   "outputs": [],
   "source": [
    "from sklearn.externals.six import StringIO\n",
    "with open(\"ibreastcancer_gini.dot\", 'w') as f:\n",
    "    f = export_graphviz(result_gini, out_file=f)\n",
    "from sklearn.externals.six import StringIO\n",
    "with open(\"ibreastcancer_entropy.dot\", 'w') as f:\n",
    "    f = export_graphviz(result_ent, out_file=f)"
   ]
  },
  {
   "cell_type": "code",
   "execution_count": 27,
   "metadata": {
    "collapsed": false
   },
   "outputs": [
    {
     "name": "stdout",
     "output_type": "stream",
     "text": [
      "0.95567867036\n",
      "0.912087912088\n"
     ]
    }
   ],
   "source": [
    "result_gini_b = model_gini.fit(X_train2, y_train2)\n",
    "prediction_train_gini_b = model_gini.predict(X_train2)\n",
    "print metrics.accuracy_score(y_train2, prediction_train_gini_b)\n",
    "prediction_gini_b = model_gini.predict(X_test)\n",
    "print metrics.accuracy_score(y_test, prediction_gini_b)\n",
    "from sklearn.externals.six import StringIO\n",
    "with open(\"ibreastcancer_gini_b.dot\", 'w') as f:\n",
    "    f = export_graphviz(result_gini_b, out_file=f)"
   ]
  },
  {
   "cell_type": "code",
   "execution_count": 28,
   "metadata": {
    "collapsed": false
   },
   "outputs": [
    {
     "data": {
      "text/plain": [
       "0.88888888888888895"
      ]
     },
     "execution_count": 28,
     "metadata": {},
     "output_type": "execute_result"
    }
   ],
   "source": [
    "f1_score(y_test, prediction_gini_b, pos_label = 'M')"
   ]
  },
  {
   "cell_type": "code",
   "execution_count": 29,
   "metadata": {
    "collapsed": false
   },
   "outputs": [
    {
     "name": "stdout",
     "output_type": "stream",
     "text": [
      "0.925207756233\n",
      "0.89010989011\n"
     ]
    },
    {
     "data": {
      "text/plain": [
       "0.875"
      ]
     },
     "execution_count": 29,
     "metadata": {},
     "output_type": "execute_result"
    }
   ],
   "source": [
    "result_ent_b = model_ent.fit(X_train2, y_train2)\n",
    "prediction_train_ent_b = model_ent.predict(X_train2)\n",
    "print metrics.accuracy_score(y_train2, prediction_train_ent_b)\n",
    "prediction_ent_b = model_ent.predict(X_test)\n",
    "print metrics.accuracy_score(y_test, prediction_ent_b)\n",
    "f1_score(y_test, prediction_ent_b, pos_label = 'M')"
   ]
  },
  {
   "cell_type": "code",
   "execution_count": 30,
   "metadata": {
    "collapsed": false
   },
   "outputs": [
    {
     "data": {
      "text/plain": [
       "0.875"
      ]
     },
     "execution_count": 30,
     "metadata": {},
     "output_type": "execute_result"
    }
   ],
   "source": [
    "f1_score(y_test, prediction_ent, pos_label = 'M')"
   ]
  },
  {
   "cell_type": "code",
   "execution_count": null,
   "metadata": {
    "collapsed": true
   },
   "outputs": [],
   "source": []
  }
 ],
 "metadata": {
  "kernelspec": {
   "display_name": "Python 2",
   "language": "python",
   "name": "python2"
  },
  "language_info": {
   "codemirror_mode": {
    "name": "ipython",
    "version": 2
   },
   "file_extension": ".py",
   "mimetype": "text/x-python",
   "name": "python",
   "nbconvert_exporter": "python",
   "pygments_lexer": "ipython2",
   "version": "2.7.10"
  }
 },
 "nbformat": 4,
 "nbformat_minor": 0
}
