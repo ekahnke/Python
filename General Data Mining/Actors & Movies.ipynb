{
 "cells": [
  {
   "cell_type": "markdown",
   "metadata": {},
   "source": [
    "##Searching for Actors through Movies\n",
    "\n",
    "We want to ﬁnd actors who have been co-stars in two movies.\n",
    "\n",
    "We import a file and load the data from the file into a dictionary using the file_to_dictionary()\n",
    "function. We will then prompt the user for 2 movie titles. The movie titles are made lowercase. The contents of the\n",
    "dictionary are also made lowercase with the lowercase() function. Next, we check to make sure the movie titles the\n",
    "user inputted exist in the dictionary using the check_input() function. If not, we prompt the user for a different\n",
    "title. Finally, we use the get_actors() function to return the actors who were in both movies, the actors who were in\n",
    "movie1 but not movie2, and the actors who were in movie2 but not movie1."
   ]
  },
  {
   "cell_type": "code",
   "execution_count": 1,
   "metadata": {
    "collapsed": true
   },
   "outputs": [],
   "source": [
    "import csv\n",
    "\n",
    "def file_to_dictionary(filename):\n",
    "    \"\"\"\n",
    "    inputs: the file you want to import\n",
    "    outputs: a dictionary with the contents of the file\n",
    "    \"\"\"\n",
    "    with open (filename, \"r\") as infile:\n",
    "        file = csv.reader(infile)\n",
    "        dictionary = {}\n",
    "        for line in file:\n",
    "            dictionary[line[0]] = line[1:]\n",
    "    return dictionary"
   ]
  },
  {
   "cell_type": "code",
   "execution_count": 2,
   "metadata": {
    "collapsed": true
   },
   "outputs": [],
   "source": [
    "def lowercase(dictionary):\n",
    "    \"\"\"\n",
    "    inputs: a dictionary\n",
    "    outputs: the dictionary with the contents lowercased\n",
    "    \"\"\"\n",
    "    for key, values in dictionary.items():\n",
    "        for i in range(len(values)):\n",
    "            values[i] = str.lower(values[i])\n"
   ]
  },
  {
   "cell_type": "code",
   "execution_count": 3,
   "metadata": {
    "collapsed": true
   },
   "outputs": [],
   "source": [
    "def get_actors(movie_one, movie_two, movies_dict):\n",
    "    \"\"\"\n",
    "    inputs: 2 movie titles and a dictionary to search those titles in\n",
    "    outputs: a list of actors who were in both titles, a list of actors who were in movie1 but not movie2, and a list\n",
    "    of actors who were in movie2 but not movie1\n",
    "    \"\"\"\n",
    "    both = []\n",
    "    only1 = []\n",
    "    only2 = []\n",
    "    for actor, movie in movies_dict.items():\n",
    "        if (movie_one in movie) and (movie_two in movie):\n",
    "            both.append(actor)\n",
    "        if (movie_one in movie) and (movie_two not in movie):\n",
    "            only1.append(actor)\n",
    "        if (movie_one not in movie) and (movie_two in movie):\n",
    "            only2.append(actor)\n",
    "    return (both, only1, only2)"
   ]
  },
  {
   "cell_type": "code",
   "execution_count": 4,
   "metadata": {
    "collapsed": true
   },
   "outputs": [],
   "source": [
    "def check_input(input, dictionary):\n",
    "    \"\"\"\n",
    "    inputs: the user's input and a dictionary to search for that input in\n",
    "    outputs: True if the input exists in the dictionary, False otherwise\n",
    "    \"\"\"\n",
    "    for movie_list in dictionary.values():\n",
    "        if input in movie_list:\n",
    "            return True\n",
    "    return False"
   ]
  },
  {
   "cell_type": "code",
   "execution_count": 5,
   "metadata": {
    "collapsed": true
   },
   "outputs": [],
   "source": [
    "def search_actors_in_movies():\n",
    "    \"\"\"\n",
    "    inputs: none\n",
    "    outputs: 3 print statements that list the actors in both movies, the actors in movie1 but not movie2, and the\n",
    "    actors in movie2 but not movie1\n",
    "    \"\"\"\n",
    "    movie_actors = file_to_dictionary(\"movies.csv\")\n",
    "    lowercase(movie_actors)\n",
    "    movie_one = raw_input('Please enter Movie 1: ').lower()\n",
    "    while check_input(movie_one, movie_actors) == False:\n",
    "        movie_one = raw_input('Please enter a different Movie 1: ').lower()\n",
    "    movie_two = raw_input('Please enter Movie 2: ').lower()\n",
    "    while check_input(movie_two, movie_actors) == False:\n",
    "        movie_two = raw_input('Please enter a different Movie 2: ').lower()\n",
    "    actors = get_actors(movie_one, movie_two, movie_actors)\n",
    "    print \"The following actors are in both movies: %s\" %actors[0]\n",
    "    print \"The following actors are in Movie 1 but not in Movie 2: %s\" %actors[1]\n",
    "    print \"The following actors are in Movie 2 but not in Movie 1: %s\" %actors[2]"
   ]
  },
  {
   "cell_type": "code",
   "execution_count": 6,
   "metadata": {
    "collapsed": false
   },
   "outputs": [
    {
     "name": "stdout",
     "output_type": "stream",
     "text": [
      "Please enter Movie 1: Gladiator\n",
      "Please enter Movie 2: Troy\n",
      "The following actors are in both movies: []\n",
      "The following actors are in Movie 1 but not in Movie 2: ['Russell Crowe']\n",
      "The following actors are in Movie 2 but not in Movie 1: ['Diane Kruger', 'Brad Pitt']\n"
     ]
    }
   ],
   "source": [
    "search_actors_in_movies()"
   ]
  },
  {
   "cell_type": "markdown",
   "metadata": {},
   "source": [
    "Sample Run of Code\n",
    "\n",
    "\n",
    "Please enter Movie 1: Gladiator\n",
    "Please enter Movie 2: Troy\n",
    "The following actors are in both movies: []\n",
    "The following actors are in Movie 1 but not in Movie 2: ['Russell Crowe']\n",
    "The following actors are in Movie 2 but not in Movie 1: ['Diane Kruger', 'Brad Pitt']"
   ]
  }
 ],
 "metadata": {
  "kernelspec": {
   "display_name": "Python 2",
   "language": "python",
   "name": "python2"
  },
  "language_info": {
   "codemirror_mode": {
    "name": "ipython",
    "version": 2
   },
   "file_extension": ".py",
   "mimetype": "text/x-python",
   "name": "python",
   "nbconvert_exporter": "python",
   "pygments_lexer": "ipython2",
   "version": "2.7.10"
  }
 },
 "nbformat": 4,
 "nbformat_minor": 0
}
