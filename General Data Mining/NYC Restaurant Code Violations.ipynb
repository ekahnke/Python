{
 "cells": [
  {
   "cell_type": "markdown",
   "metadata": {},
   "source": [
    "##NYC Restaurant Code Violations"
   ]
  },
  {
   "cell_type": "code",
   "execution_count": 1,
   "metadata": {
    "collapsed": false
   },
   "outputs": [
    {
     "name": "stdout",
     "output_type": "stream",
     "text": [
      "Populating the interactive namespace from numpy and matplotlib\n"
     ]
    }
   ],
   "source": [
    "from pandas import Series, DataFrame\n",
    "import pandas as pd\n",
    "%pylab inline"
   ]
  },
  {
   "cell_type": "code",
   "execution_count": 2,
   "metadata": {
    "collapsed": true
   },
   "outputs": [],
   "source": [
    "df = pd.read_csv('NYC_Restaurants.csv', dtype=unicode)"
   ]
  },
  {
   "cell_type": "markdown",
   "metadata": {},
   "source": [
    "Create a unique name for each restaurant."
   ]
  },
  {
   "cell_type": "markdown",
   "metadata": {},
   "source": [
    "We added a column of unique names to df for restaurants by combining data from the 'DBA', \"BUILDING', 'STREET' and 'ZIP CODE' columns "
   ]
  },
  {
   "cell_type": "code",
   "execution_count": 3,
   "metadata": {
    "collapsed": false
   },
   "outputs": [
    {
     "data": {
      "text/html": [
       "<div>\n",
       "<table border=\"1\" class=\"dataframe\">\n",
       "  <thead>\n",
       "    <tr style=\"text-align: right;\">\n",
       "      <th></th>\n",
       "      <th>Unnamed: 0</th>\n",
       "      <th>CAMIS</th>\n",
       "      <th>DBA</th>\n",
       "      <th>BORO</th>\n",
       "      <th>BUILDING</th>\n",
       "      <th>STREET</th>\n",
       "      <th>ZIPCODE</th>\n",
       "      <th>PHONE</th>\n",
       "      <th>CUISINE DESCRIPTION</th>\n",
       "      <th>INSPECTION DATE</th>\n",
       "      <th>ACTION</th>\n",
       "      <th>VIOLATION CODE</th>\n",
       "      <th>VIOLATION DESCRIPTION</th>\n",
       "      <th>CRITICAL FLAG</th>\n",
       "      <th>SCORE</th>\n",
       "      <th>GRADE</th>\n",
       "      <th>GRADE DATE</th>\n",
       "      <th>RECORD DATE</th>\n",
       "      <th>INSPECTION TYPE</th>\n",
       "      <th>RESTAURANT</th>\n",
       "    </tr>\n",
       "  </thead>\n",
       "  <tbody>\n",
       "    <tr>\n",
       "      <th>0</th>\n",
       "      <td>0</td>\n",
       "      <td>30112340</td>\n",
       "      <td>WENDY'S</td>\n",
       "      <td>BROOKLYN</td>\n",
       "      <td>469</td>\n",
       "      <td>FLATBUSH AVENUE</td>\n",
       "      <td>11225</td>\n",
       "      <td>7182875005</td>\n",
       "      <td>Hamburgers</td>\n",
       "      <td>12/30/2014</td>\n",
       "      <td>Violations were cited in the following area(s).</td>\n",
       "      <td>06C</td>\n",
       "      <td>Food not protected from potential source of co...</td>\n",
       "      <td>Critical</td>\n",
       "      <td>8</td>\n",
       "      <td>A</td>\n",
       "      <td>12/30/2014</td>\n",
       "      <td>02/12/2015</td>\n",
       "      <td>Cycle Inspection / Re-inspection</td>\n",
       "      <td>WENDY'S 469 FLATBUSH AVENUE 11225</td>\n",
       "    </tr>\n",
       "    <tr>\n",
       "      <th>1</th>\n",
       "      <td>1</td>\n",
       "      <td>30112340</td>\n",
       "      <td>WENDY'S</td>\n",
       "      <td>BROOKLYN</td>\n",
       "      <td>469</td>\n",
       "      <td>FLATBUSH AVENUE</td>\n",
       "      <td>11225</td>\n",
       "      <td>7182875005</td>\n",
       "      <td>Hamburgers</td>\n",
       "      <td>12/30/2014</td>\n",
       "      <td>Violations were cited in the following area(s).</td>\n",
       "      <td>10F</td>\n",
       "      <td>Non-food contact surface improperly constructe...</td>\n",
       "      <td>Not Critical</td>\n",
       "      <td>8</td>\n",
       "      <td>A</td>\n",
       "      <td>12/30/2014</td>\n",
       "      <td>02/12/2015</td>\n",
       "      <td>Cycle Inspection / Re-inspection</td>\n",
       "      <td>WENDY'S 469 FLATBUSH AVENUE 11225</td>\n",
       "    </tr>\n",
       "  </tbody>\n",
       "</table>\n",
       "</div>"
      ],
      "text/plain": [
       "  Unnamed: 0     CAMIS      DBA      BORO BUILDING           STREET ZIPCODE  \\\n",
       "0          0  30112340  WENDY'S  BROOKLYN      469  FLATBUSH AVENUE   11225   \n",
       "1          1  30112340  WENDY'S  BROOKLYN      469  FLATBUSH AVENUE   11225   \n",
       "\n",
       "        PHONE CUISINE DESCRIPTION INSPECTION DATE  \\\n",
       "0  7182875005          Hamburgers      12/30/2014   \n",
       "1  7182875005          Hamburgers      12/30/2014   \n",
       "\n",
       "                                            ACTION VIOLATION CODE  \\\n",
       "0  Violations were cited in the following area(s).            06C   \n",
       "1  Violations were cited in the following area(s).            10F   \n",
       "\n",
       "                               VIOLATION DESCRIPTION CRITICAL FLAG SCORE  \\\n",
       "0  Food not protected from potential source of co...      Critical     8   \n",
       "1  Non-food contact surface improperly constructe...  Not Critical     8   \n",
       "\n",
       "  GRADE  GRADE DATE RECORD DATE                   INSPECTION TYPE  \\\n",
       "0     A  12/30/2014  02/12/2015  Cycle Inspection / Re-inspection   \n",
       "1     A  12/30/2014  02/12/2015  Cycle Inspection / Re-inspection   \n",
       "\n",
       "                          RESTAURANT  \n",
       "0  WENDY'S 469 FLATBUSH AVENUE 11225  \n",
       "1  WENDY'S 469 FLATBUSH AVENUE 11225  "
      ]
     },
     "execution_count": 3,
     "metadata": {},
     "output_type": "execute_result"
    }
   ],
   "source": [
    "df['RESTAURANT'] = df['DBA'] + ' '+ df['BUILDING'] + ' '+ df['STREET'] + ' '+ df['ZIPCODE']\n",
    "df.head(2)"
   ]
  },
  {
   "cell_type": "markdown",
   "metadata": {},
   "source": [
    " How many restaurants are included in the data? "
   ]
  },
  {
   "cell_type": "markdown",
   "metadata": {},
   "source": [
    "We dropped any duplicate entries of 'RESTAURANT' in our df dataframe to ensure a dataframe of unique restaurants, then simply applied len() to get the number of restaurants"
   ]
  },
  {
   "cell_type": "code",
   "execution_count": 4,
   "metadata": {
    "collapsed": false
   },
   "outputs": [
    {
     "name": "stdout",
     "output_type": "stream",
     "text": [
      "10114\n"
     ]
    }
   ],
   "source": [
    "df_noduplicates = df.drop_duplicates(subset='RESTAURANT')\n",
    "print len(df_noduplicates)\n",
    "#df_noduplicates.head(2)"
   ]
  },
  {
   "cell_type": "markdown",
   "metadata": {},
   "source": [
    " How many chains are there?"
   ]
  },
  {
   "cell_type": "markdown",
   "metadata": {},
   "source": [
    "Chains were defined as 2 or more different 'RESTAURANTS' for one 'DBA' value. We took the value counts of the DBA column from df_noduplicates from question 2 and converted that series to a dataframe.  We then filtered the dataframe to only show DBA values that were listed more than once and applied the len() function to get the count of chains."
   ]
  },
  {
   "cell_type": "code",
   "execution_count": 5,
   "metadata": {
    "collapsed": false
   },
   "outputs": [
    {
     "data": {
      "text/plain": [
       "368"
      ]
     },
     "execution_count": 5,
     "metadata": {},
     "output_type": "execute_result"
    }
   ],
   "source": [
    "vc = (df_noduplicates['DBA'].value_counts())\n",
    "df1 = vc.to_frame(name='valuecounts')\n",
    "chains  = df1[df1.valuecounts > 1]\n",
    "len(chains)"
   ]
  },
  {
   "cell_type": "markdown",
   "metadata": {},
   "source": [
    "Plot a bar graph of the top 20 most popular chains. "
   ]
  },
  {
   "cell_type": "markdown",
   "metadata": {},
   "source": [
    "This was a simple plot of the top 20 chains"
   ]
  },
  {
   "cell_type": "code",
   "execution_count": 6,
   "metadata": {
    "collapsed": false
   },
   "outputs": [
    {
     "data": {
      "text/plain": [
       "<matplotlib.axes._subplots.AxesSubplot at 0x8dbb6f0>"
      ]
     },
     "execution_count": 6,
     "metadata": {},
     "output_type": "execute_result"
    },
    {
     "data": {
      "image/png": "[encoded data removed]",
      "text/plain": [
       "<matplotlib.figure.Figure at 0x8db1f10>"
      ]
     },
     "metadata": {},
     "output_type": "display_data"
    }
   ],
   "source": [
    "top_20_chains = chains[:20]\n",
    "top_20_chains.plot(kind = 'bar')"
   ]
  },
  {
   "cell_type": "markdown",
   "metadata": {},
   "source": [
    "What fraction of all restaurants are chains?"
   ]
  },
  {
   "cell_type": "markdown",
   "metadata": {},
   "source": [
    "Using df1 from Q3, we applied a filter that returned only the restaurants that weren't chains. Next, we found the number of non chains with len() function and caclulated the fraction of chains in all restaurants using the non chain count and our answer from Q2."
   ]
  },
  {
   "cell_type": "code",
   "execution_count": 7,
   "metadata": {
    "collapsed": false
   },
   "outputs": [
    {
     "data": {
      "text/plain": [
       "0.16472216729286138"
      ]
     },
     "execution_count": 7,
     "metadata": {},
     "output_type": "execute_result"
    }
   ],
   "source": [
    "df1\n",
    "notchains  = df1[df1.valuecounts ==1]\n",
    "len(notchains)\n",
    "\n",
    "1.0-(1.0*len(notchains)/len(df_noduplicates))"
   ]
  },
  {
   "cell_type": "markdown",
   "metadata": {},
   "source": [
    "Plot the number of non-chain restaurants in each boro."
   ]
  },
  {
   "cell_type": "markdown",
   "metadata": {},
   "source": [
    "We made a pivot table off of a data frame filled with restaurants that weren't chains, using the borough as the index. From this we got the count in each borough and plotted the results."
   ]
  },
  {
   "cell_type": "code",
   "execution_count": 8,
   "metadata": {
    "collapsed": false
   },
   "outputs": [
    {
     "data": {
      "text/plain": [
       "<matplotlib.axes._subplots.AxesSubplot at 0x8c34910>"
      ]
     },
     "execution_count": 8,
     "metadata": {},
     "output_type": "execute_result"
    },
    {
     "data": {
      "image/png": "[encoded data removed]",
      "text/plain": [
       "<matplotlib.figure.Figure at 0x9342570>"
      ]
     },
     "metadata": {},
     "output_type": "display_data"
    }
   ],
   "source": [
    "df_notchains = df_noduplicates.groupby(\"DBA\").filter(lambda x: len(x) == 1)\n",
    "boro_notchain_pivot = pd.pivot_table (df_notchains, index = 'BORO', values = 'RESTAURANT', aggfunc = lambda x: len(x.unique()))\n",
    "boro_notchain_pivot = boro_notchain_pivot.to_frame(name = 'count_of_notchains')\n",
    "boro_notchain_pivot.query('BORO != [\"Missing\"]').plot(kind = \"bar\")"
   ]
  },
  {
   "cell_type": "markdown",
   "metadata": {},
   "source": [
    "Plot the fraction of non-chain restaurants in each boro."
   ]
  },
  {
   "cell_type": "markdown",
   "metadata": {},
   "source": [
    "We started by creating a pivot of BORO and RESTAURANTS from out df_noduplicates da and removed all missing values. Next, we appended this to our result from Q6 and divided the whole dataframe by the column we just appended. After removing the unecessary column, we plotted the resulting fractions by boro. "
   ]
  },
  {
   "cell_type": "code",
   "execution_count": 9,
   "metadata": {
    "collapsed": false
   },
   "outputs": [
    {
     "data": {
      "text/plain": [
       "<matplotlib.axes._subplots.AxesSubplot at 0x933b230>"
      ]
     },
     "execution_count": 9,
     "metadata": {},
     "output_type": "execute_result"
    },
    {
     "data": {
      "image/png": "[encoded data removed]",
      "text/plain": [
       "<matplotlib.figure.Figure at 0x8c18670>"
      ]
     },
     "metadata": {},
     "output_type": "display_data"
    }
   ],
   "source": [
    "boro_restaurant_pivot = pd.pivot_table (df_noduplicates, index = 'BORO', values = 'RESTAURANT', aggfunc = lambda x: len(x.unique()))\n",
    "boro_restaurant_pivot = boro_restaurant_pivot.to_frame(name='count_of_restaurants')\n",
    "boro_notchain_pivot = boro_notchain_pivot.query('BORO != [\"Missing\"]')\n",
    "boro_restaurant_pivot = boro_restaurant_pivot.query('BORO != [\"Missing\"]')\n",
    "boro_notchain_pivot['TOTAL RESTAURANTS'] = boro_restaurant_pivot\n",
    "fraction = boro_notchain_pivot.div(boro_notchain_pivot['TOTAL RESTAURANTS'], axis='index')\n",
    "fraction = fraction.drop('TOTAL RESTAURANTS', 1)\n",
    "fraction.columns.values[0] = 'Not Chain Fraction'\n",
    "fraction.plot(kind = \"bar\")"
   ]
  },
  {
   "cell_type": "markdown",
   "metadata": {},
   "source": [
    "Plot the popularity of cuisines."
   ]
  },
  {
   "cell_type": "markdown",
   "metadata": {},
   "source": [
    "We will simply find the value counts from the no duplicates data frame of each cuisine type. We put that in a series variable, then plot the top 20 values of the variable."
   ]
  },
  {
   "cell_type": "code",
   "execution_count": 10,
   "metadata": {
    "collapsed": false
   },
   "outputs": [
    {
     "data": {
      "text/plain": [
       "<matplotlib.axes._subplots.AxesSubplot at 0x93110f0>"
      ]
     },
     "execution_count": 10,
     "metadata": {},
     "output_type": "execute_result"
    },
    {
     "data": {
      "image/png": "[encoded data removed]",
      "text/plain": [
       "<matplotlib.figure.Figure at 0x9357f90>"
      ]
     },
     "metadata": {},
     "output_type": "display_data"
    }
   ],
   "source": [
    "cuis = df_noduplicates['CUISINE DESCRIPTION'].value_counts()\n",
    "cuis[:20].plot(kind='bar')"
   ]
  },
  {
   "cell_type": "markdown",
   "metadata": {},
   "source": [
    "Plot the cuisines among restaurants which do not get cited for violations."
   ]
  },
  {
   "cell_type": "markdown",
   "metadata": {},
   "source": [
    "We will first create a mask to see if the violation code is null. We will then filter the original dataframe on that mask. Finally, we will get the value_counts from the Cuisine field of the masked dataframe and plot the results. "
   ]
  },
  {
   "cell_type": "code",
   "execution_count": 11,
   "metadata": {
    "collapsed": false
   },
   "outputs": [
    {
     "data": {
      "text/plain": [
       "<matplotlib.axes._subplots.AxesSubplot at 0x9ec6cf0>"
      ]
     },
     "execution_count": 11,
     "metadata": {},
     "output_type": "execute_result"
    },
    {
     "data": {
      "image/png": "[encoded data removed]",
      "text/plain": [
       "<matplotlib.figure.Figure at 0x9eb1cd0>"
      ]
     },
     "metadata": {},
     "output_type": "display_data"
    }
   ],
   "source": [
    "mask = (df['VIOLATION CODE']).isnull()\n",
    "no_violations = df[mask]\n",
    "no_violations[['CUISINE DESCRIPTION', 'RESTAURANT']]\n",
    "cuisine_no_violations = no_violations['CUISINE DESCRIPTION'].value_counts()\n",
    "cuisine_no_violations[:20].plot(kind='bar')"
   ]
  },
  {
   "cell_type": "markdown",
   "metadata": {},
   "source": [
    "What cuisines tend to be the “cleanest”?"
   ]
  },
  {
   "cell_type": "markdown",
   "metadata": {},
   "source": [
    "We will first do the opposite of question 9, creating a mask to find all the instances where there was a violation. We will then make a dataframe putting the violations series and the non_violations series together. We will add a column to calculate the total number of instances. Finally, we will add a column to calculate the ratio of no violations to all instances and sort on that column. "
   ]
  },
  {
   "cell_type": "code",
   "execution_count": 12,
   "metadata": {
    "collapsed": false
   },
   "outputs": [
    {
     "data": {
      "text/html": [
       "<div>\n",
       "<table border=\"1\" class=\"dataframe\">\n",
       "  <thead>\n",
       "    <tr style=\"text-align: right;\">\n",
       "      <th></th>\n",
       "      <th>VIOLATIONS</th>\n",
       "      <th>NO VIOLATIONS</th>\n",
       "      <th>TOTAL INSTANCES</th>\n",
       "      <th>PERCENT NO VIOLATIONS</th>\n",
       "    </tr>\n",
       "  </thead>\n",
       "  <tbody>\n",
       "    <tr>\n",
       "      <th>Creole</th>\n",
       "      <td>48</td>\n",
       "      <td>2</td>\n",
       "      <td>50</td>\n",
       "      <td>4.000000</td>\n",
       "    </tr>\n",
       "    <tr>\n",
       "      <th>Chinese/Cuban</th>\n",
       "      <td>53</td>\n",
       "      <td>2</td>\n",
       "      <td>55</td>\n",
       "      <td>3.636364</td>\n",
       "    </tr>\n",
       "    <tr>\n",
       "      <th>Barbecue</th>\n",
       "      <td>93</td>\n",
       "      <td>3</td>\n",
       "      <td>96</td>\n",
       "      <td>3.125000</td>\n",
       "    </tr>\n",
       "    <tr>\n",
       "      <th>Soups &amp; Sandwiches</th>\n",
       "      <td>63</td>\n",
       "      <td>2</td>\n",
       "      <td>65</td>\n",
       "      <td>3.076923</td>\n",
       "    </tr>\n",
       "    <tr>\n",
       "      <th>Continental</th>\n",
       "      <td>67</td>\n",
       "      <td>2</td>\n",
       "      <td>69</td>\n",
       "      <td>2.898551</td>\n",
       "    </tr>\n",
       "    <tr>\n",
       "      <th>Other</th>\n",
       "      <td>267</td>\n",
       "      <td>7</td>\n",
       "      <td>274</td>\n",
       "      <td>2.554745</td>\n",
       "    </tr>\n",
       "    <tr>\n",
       "      <th>Peruvian</th>\n",
       "      <td>168</td>\n",
       "      <td>4</td>\n",
       "      <td>172</td>\n",
       "      <td>2.325581</td>\n",
       "    </tr>\n",
       "    <tr>\n",
       "      <th>Russian</th>\n",
       "      <td>171</td>\n",
       "      <td>4</td>\n",
       "      <td>175</td>\n",
       "      <td>2.285714</td>\n",
       "    </tr>\n",
       "    <tr>\n",
       "      <th>French</th>\n",
       "      <td>587</td>\n",
       "      <td>13</td>\n",
       "      <td>600</td>\n",
       "      <td>2.166667</td>\n",
       "    </tr>\n",
       "    <tr>\n",
       "      <th>Bangladeshi</th>\n",
       "      <td>146</td>\n",
       "      <td>3</td>\n",
       "      <td>149</td>\n",
       "      <td>2.013423</td>\n",
       "    </tr>\n",
       "    <tr>\n",
       "      <th>Tapas</th>\n",
       "      <td>49</td>\n",
       "      <td>1</td>\n",
       "      <td>50</td>\n",
       "      <td>2.000000</td>\n",
       "    </tr>\n",
       "    <tr>\n",
       "      <th>Soul Food</th>\n",
       "      <td>102</td>\n",
       "      <td>2</td>\n",
       "      <td>104</td>\n",
       "      <td>1.923077</td>\n",
       "    </tr>\n",
       "    <tr>\n",
       "      <th>Tex-Mex</th>\n",
       "      <td>267</td>\n",
       "      <td>5</td>\n",
       "      <td>272</td>\n",
       "      <td>1.838235</td>\n",
       "    </tr>\n",
       "    <tr>\n",
       "      <th>Turkish</th>\n",
       "      <td>172</td>\n",
       "      <td>3</td>\n",
       "      <td>175</td>\n",
       "      <td>1.714286</td>\n",
       "    </tr>\n",
       "    <tr>\n",
       "      <th>Hamburgers</th>\n",
       "      <td>587</td>\n",
       "      <td>10</td>\n",
       "      <td>597</td>\n",
       "      <td>1.675042</td>\n",
       "    </tr>\n",
       "    <tr>\n",
       "      <th>Vietnamese/Cambodian/Malaysia</th>\n",
       "      <td>178</td>\n",
       "      <td>3</td>\n",
       "      <td>181</td>\n",
       "      <td>1.657459</td>\n",
       "    </tr>\n",
       "    <tr>\n",
       "      <th>Bakery</th>\n",
       "      <td>1467</td>\n",
       "      <td>24</td>\n",
       "      <td>1491</td>\n",
       "      <td>1.609658</td>\n",
       "    </tr>\n",
       "    <tr>\n",
       "      <th>Asian</th>\n",
       "      <td>743</td>\n",
       "      <td>12</td>\n",
       "      <td>755</td>\n",
       "      <td>1.589404</td>\n",
       "    </tr>\n",
       "    <tr>\n",
       "      <th>Delicatessen</th>\n",
       "      <td>696</td>\n",
       "      <td>11</td>\n",
       "      <td>707</td>\n",
       "      <td>1.555870</td>\n",
       "    </tr>\n",
       "    <tr>\n",
       "      <th>Chinese</th>\n",
       "      <td>5282</td>\n",
       "      <td>83</td>\n",
       "      <td>5365</td>\n",
       "      <td>1.547064</td>\n",
       "    </tr>\n",
       "    <tr>\n",
       "      <th>Pizza/Italian</th>\n",
       "      <td>953</td>\n",
       "      <td>14</td>\n",
       "      <td>967</td>\n",
       "      <td>1.447777</td>\n",
       "    </tr>\n",
       "    <tr>\n",
       "      <th>Café/Coffee/Tea</th>\n",
       "      <td>1507</td>\n",
       "      <td>22</td>\n",
       "      <td>1529</td>\n",
       "      <td>1.438849</td>\n",
       "    </tr>\n",
       "    <tr>\n",
       "      <th>Sandwiches/Salads/Mixed Buffet</th>\n",
       "      <td>343</td>\n",
       "      <td>5</td>\n",
       "      <td>348</td>\n",
       "      <td>1.436782</td>\n",
       "    </tr>\n",
       "    <tr>\n",
       "      <th>Salads</th>\n",
       "      <td>69</td>\n",
       "      <td>1</td>\n",
       "      <td>70</td>\n",
       "      <td>1.428571</td>\n",
       "    </tr>\n",
       "    <tr>\n",
       "      <th>Bagels/Pretzels</th>\n",
       "      <td>277</td>\n",
       "      <td>4</td>\n",
       "      <td>281</td>\n",
       "      <td>1.423488</td>\n",
       "    </tr>\n",
       "    <tr>\n",
       "      <th>Sandwiches</th>\n",
       "      <td>555</td>\n",
       "      <td>8</td>\n",
       "      <td>563</td>\n",
       "      <td>1.420959</td>\n",
       "    </tr>\n",
       "    <tr>\n",
       "      <th>Irish</th>\n",
       "      <td>281</td>\n",
       "      <td>4</td>\n",
       "      <td>285</td>\n",
       "      <td>1.403509</td>\n",
       "    </tr>\n",
       "    <tr>\n",
       "      <th>Middle Eastern</th>\n",
       "      <td>354</td>\n",
       "      <td>5</td>\n",
       "      <td>359</td>\n",
       "      <td>1.392758</td>\n",
       "    </tr>\n",
       "    <tr>\n",
       "      <th>Thai</th>\n",
       "      <td>576</td>\n",
       "      <td>8</td>\n",
       "      <td>584</td>\n",
       "      <td>1.369863</td>\n",
       "    </tr>\n",
       "    <tr>\n",
       "      <th>American</th>\n",
       "      <td>9395</td>\n",
       "      <td>127</td>\n",
       "      <td>9522</td>\n",
       "      <td>1.333753</td>\n",
       "    </tr>\n",
       "    <tr>\n",
       "      <th>...</th>\n",
       "      <td>...</td>\n",
       "      <td>...</td>\n",
       "      <td>...</td>\n",
       "      <td>...</td>\n",
       "    </tr>\n",
       "    <tr>\n",
       "      <th>Pizza</th>\n",
       "      <td>2017</td>\n",
       "      <td>24</td>\n",
       "      <td>2041</td>\n",
       "      <td>1.175894</td>\n",
       "    </tr>\n",
       "    <tr>\n",
       "      <th>Bottled beverages, including water, sodas, juices, etc.</th>\n",
       "      <td>90</td>\n",
       "      <td>1</td>\n",
       "      <td>91</td>\n",
       "      <td>1.098901</td>\n",
       "    </tr>\n",
       "    <tr>\n",
       "      <th>Donuts</th>\n",
       "      <td>546</td>\n",
       "      <td>6</td>\n",
       "      <td>552</td>\n",
       "      <td>1.086957</td>\n",
       "    </tr>\n",
       "    <tr>\n",
       "      <th>Korean</th>\n",
       "      <td>578</td>\n",
       "      <td>6</td>\n",
       "      <td>584</td>\n",
       "      <td>1.027397</td>\n",
       "    </tr>\n",
       "    <tr>\n",
       "      <th>Japanese</th>\n",
       "      <td>1643</td>\n",
       "      <td>16</td>\n",
       "      <td>1659</td>\n",
       "      <td>0.964436</td>\n",
       "    </tr>\n",
       "    <tr>\n",
       "      <th>Mexican</th>\n",
       "      <td>1630</td>\n",
       "      <td>15</td>\n",
       "      <td>1645</td>\n",
       "      <td>0.911854</td>\n",
       "    </tr>\n",
       "    <tr>\n",
       "      <th>Ice Cream, Gelato, Yogurt, Ices</th>\n",
       "      <td>218</td>\n",
       "      <td>2</td>\n",
       "      <td>220</td>\n",
       "      <td>0.909091</td>\n",
       "    </tr>\n",
       "    <tr>\n",
       "      <th>Pakistani</th>\n",
       "      <td>110</td>\n",
       "      <td>1</td>\n",
       "      <td>111</td>\n",
       "      <td>0.900901</td>\n",
       "    </tr>\n",
       "    <tr>\n",
       "      <th>Jewish/Kosher</th>\n",
       "      <td>670</td>\n",
       "      <td>6</td>\n",
       "      <td>676</td>\n",
       "      <td>0.887574</td>\n",
       "    </tr>\n",
       "    <tr>\n",
       "      <th>Caribbean</th>\n",
       "      <td>1457</td>\n",
       "      <td>13</td>\n",
       "      <td>1470</td>\n",
       "      <td>0.884354</td>\n",
       "    </tr>\n",
       "    <tr>\n",
       "      <th>Eastern European</th>\n",
       "      <td>114</td>\n",
       "      <td>1</td>\n",
       "      <td>115</td>\n",
       "      <td>0.869565</td>\n",
       "    </tr>\n",
       "    <tr>\n",
       "      <th>Filipino</th>\n",
       "      <td>117</td>\n",
       "      <td>1</td>\n",
       "      <td>118</td>\n",
       "      <td>0.847458</td>\n",
       "    </tr>\n",
       "    <tr>\n",
       "      <th>Mediterranean</th>\n",
       "      <td>361</td>\n",
       "      <td>3</td>\n",
       "      <td>364</td>\n",
       "      <td>0.824176</td>\n",
       "    </tr>\n",
       "    <tr>\n",
       "      <th>Indian</th>\n",
       "      <td>723</td>\n",
       "      <td>6</td>\n",
       "      <td>729</td>\n",
       "      <td>0.823045</td>\n",
       "    </tr>\n",
       "    <tr>\n",
       "      <th>Chinese/Japanese</th>\n",
       "      <td>141</td>\n",
       "      <td>1</td>\n",
       "      <td>142</td>\n",
       "      <td>0.704225</td>\n",
       "    </tr>\n",
       "    <tr>\n",
       "      <th>Spanish</th>\n",
       "      <td>1577</td>\n",
       "      <td>11</td>\n",
       "      <td>1588</td>\n",
       "      <td>0.692695</td>\n",
       "    </tr>\n",
       "    <tr>\n",
       "      <th>African</th>\n",
       "      <td>177</td>\n",
       "      <td>1</td>\n",
       "      <td>178</td>\n",
       "      <td>0.561798</td>\n",
       "    </tr>\n",
       "    <tr>\n",
       "      <th>Vegetarian</th>\n",
       "      <td>205</td>\n",
       "      <td>1</td>\n",
       "      <td>206</td>\n",
       "      <td>0.485437</td>\n",
       "    </tr>\n",
       "    <tr>\n",
       "      <th>English</th>\n",
       "      <td>25</td>\n",
       "      <td>0</td>\n",
       "      <td>25</td>\n",
       "      <td>0.000000</td>\n",
       "    </tr>\n",
       "    <tr>\n",
       "      <th>Polish</th>\n",
       "      <td>82</td>\n",
       "      <td>0</td>\n",
       "      <td>82</td>\n",
       "      <td>0.000000</td>\n",
       "    </tr>\n",
       "    <tr>\n",
       "      <th>Seafood</th>\n",
       "      <td>235</td>\n",
       "      <td>0</td>\n",
       "      <td>235</td>\n",
       "      <td>0.000000</td>\n",
       "    </tr>\n",
       "    <tr>\n",
       "      <th>Hotdogs</th>\n",
       "      <td>30</td>\n",
       "      <td>0</td>\n",
       "      <td>30</td>\n",
       "      <td>0.000000</td>\n",
       "    </tr>\n",
       "    <tr>\n",
       "      <th>Pancakes/Waffles</th>\n",
       "      <td>32</td>\n",
       "      <td>0</td>\n",
       "      <td>32</td>\n",
       "      <td>0.000000</td>\n",
       "    </tr>\n",
       "    <tr>\n",
       "      <th>Not Listed/Not Applicable</th>\n",
       "      <td>23</td>\n",
       "      <td>0</td>\n",
       "      <td>23</td>\n",
       "      <td>0.000000</td>\n",
       "    </tr>\n",
       "    <tr>\n",
       "      <th>Steak</th>\n",
       "      <td>153</td>\n",
       "      <td>0</td>\n",
       "      <td>153</td>\n",
       "      <td>0.000000</td>\n",
       "    </tr>\n",
       "    <tr>\n",
       "      <th>Cajun</th>\n",
       "      <td>27</td>\n",
       "      <td>0</td>\n",
       "      <td>27</td>\n",
       "      <td>0.000000</td>\n",
       "    </tr>\n",
       "    <tr>\n",
       "      <th>Brazilian</th>\n",
       "      <td>44</td>\n",
       "      <td>0</td>\n",
       "      <td>44</td>\n",
       "      <td>0.000000</td>\n",
       "    </tr>\n",
       "    <tr>\n",
       "      <th>Moroccan</th>\n",
       "      <td>21</td>\n",
       "      <td>0</td>\n",
       "      <td>21</td>\n",
       "      <td>0.000000</td>\n",
       "    </tr>\n",
       "    <tr>\n",
       "      <th>Armenian</th>\n",
       "      <td>79</td>\n",
       "      <td>0</td>\n",
       "      <td>79</td>\n",
       "      <td>0.000000</td>\n",
       "    </tr>\n",
       "    <tr>\n",
       "      <th>Ethiopian</th>\n",
       "      <td>21</td>\n",
       "      <td>0</td>\n",
       "      <td>21</td>\n",
       "      <td>0.000000</td>\n",
       "    </tr>\n",
       "  </tbody>\n",
       "</table>\n",
       "<p>66 rows × 4 columns</p>\n",
       "</div>"
      ],
      "text/plain": [
       "                                                    VIOLATIONS  NO VIOLATIONS  \\\n",
       "Creole                                                      48              2   \n",
       "Chinese/Cuban                                               53              2   \n",
       "Barbecue                                                    93              3   \n",
       "Soups & Sandwiches                                          63              2   \n",
       "Continental                                                 67              2   \n",
       "Other                                                      267              7   \n",
       "Peruvian                                                   168              4   \n",
       "Russian                                                    171              4   \n",
       "French                                                     587             13   \n",
       "Bangladeshi                                                146              3   \n",
       "Tapas                                                       49              1   \n",
       "Soul Food                                                  102              2   \n",
       "Tex-Mex                                                    267              5   \n",
       "Turkish                                                    172              3   \n",
       "Hamburgers                                                 587             10   \n",
       "Vietnamese/Cambodian/Malaysia                              178              3   \n",
       "Bakery                                                    1467             24   \n",
       "Asian                                                      743             12   \n",
       "Delicatessen                                               696             11   \n",
       "Chinese                                                   5282             83   \n",
       "Pizza/Italian                                              953             14   \n",
       "Café/Coffee/Tea                                           1507             22   \n",
       "Sandwiches/Salads/Mixed Buffet                             343              5   \n",
       "Salads                                                      69              1   \n",
       "Bagels/Pretzels                                            277              4   \n",
       "Sandwiches                                                 555              8   \n",
       "Irish                                                      281              4   \n",
       "Middle Eastern                                             354              5   \n",
       "Thai                                                       576              8   \n",
       "American                                                  9395            127   \n",
       "...                                                        ...            ...   \n",
       "Pizza                                                     2017             24   \n",
       "Bottled beverages, including water, sodas, juic...          90              1   \n",
       "Donuts                                                     546              6   \n",
       "Korean                                                     578              6   \n",
       "Japanese                                                  1643             16   \n",
       "Mexican                                                   1630             15   \n",
       "Ice Cream, Gelato, Yogurt, Ices                            218              2   \n",
       "Pakistani                                                  110              1   \n",
       "Jewish/Kosher                                              670              6   \n",
       "Caribbean                                                 1457             13   \n",
       "Eastern European                                           114              1   \n",
       "Filipino                                                   117              1   \n",
       "Mediterranean                                              361              3   \n",
       "Indian                                                     723              6   \n",
       "Chinese/Japanese                                           141              1   \n",
       "Spanish                                                   1577             11   \n",
       "African                                                    177              1   \n",
       "Vegetarian                                                 205              1   \n",
       "English                                                     25              0   \n",
       "Polish                                                      82              0   \n",
       "Seafood                                                    235              0   \n",
       "Hotdogs                                                     30              0   \n",
       "Pancakes/Waffles                                            32              0   \n",
       "Not Listed/Not Applicable                                   23              0   \n",
       "Steak                                                      153              0   \n",
       "Cajun                                                       27              0   \n",
       "Brazilian                                                   44              0   \n",
       "Moroccan                                                    21              0   \n",
       "Armenian                                                    79              0   \n",
       "Ethiopian                                                   21              0   \n",
       "\n",
       "                                                    TOTAL INSTANCES  \\\n",
       "Creole                                                           50   \n",
       "Chinese/Cuban                                                    55   \n",
       "Barbecue                                                         96   \n",
       "Soups & Sandwiches                                               65   \n",
       "Continental                                                      69   \n",
       "Other                                                           274   \n",
       "Peruvian                                                        172   \n",
       "Russian                                                         175   \n",
       "French                                                          600   \n",
       "Bangladeshi                                                     149   \n",
       "Tapas                                                            50   \n",
       "Soul Food                                                       104   \n",
       "Tex-Mex                                                         272   \n",
       "Turkish                                                         175   \n",
       "Hamburgers                                                      597   \n",
       "Vietnamese/Cambodian/Malaysia                                   181   \n",
       "Bakery                                                         1491   \n",
       "Asian                                                           755   \n",
       "Delicatessen                                                    707   \n",
       "Chinese                                                        5365   \n",
       "Pizza/Italian                                                   967   \n",
       "Café/Coffee/Tea                                                1529   \n",
       "Sandwiches/Salads/Mixed Buffet                                  348   \n",
       "Salads                                                           70   \n",
       "Bagels/Pretzels                                                 281   \n",
       "Sandwiches                                                      563   \n",
       "Irish                                                           285   \n",
       "Middle Eastern                                                  359   \n",
       "Thai                                                            584   \n",
       "American                                                       9522   \n",
       "...                                                             ...   \n",
       "Pizza                                                          2041   \n",
       "Bottled beverages, including water, sodas, juic...               91   \n",
       "Donuts                                                          552   \n",
       "Korean                                                          584   \n",
       "Japanese                                                       1659   \n",
       "Mexican                                                        1645   \n",
       "Ice Cream, Gelato, Yogurt, Ices                                 220   \n",
       "Pakistani                                                       111   \n",
       "Jewish/Kosher                                                   676   \n",
       "Caribbean                                                      1470   \n",
       "Eastern European                                                115   \n",
       "Filipino                                                        118   \n",
       "Mediterranean                                                   364   \n",
       "Indian                                                          729   \n",
       "Chinese/Japanese                                                142   \n",
       "Spanish                                                        1588   \n",
       "African                                                         178   \n",
       "Vegetarian                                                      206   \n",
       "English                                                          25   \n",
       "Polish                                                           82   \n",
       "Seafood                                                         235   \n",
       "Hotdogs                                                          30   \n",
       "Pancakes/Waffles                                                 32   \n",
       "Not Listed/Not Applicable                                        23   \n",
       "Steak                                                           153   \n",
       "Cajun                                                            27   \n",
       "Brazilian                                                        44   \n",
       "Moroccan                                                         21   \n",
       "Armenian                                                         79   \n",
       "Ethiopian                                                        21   \n",
       "\n",
       "                                                    PERCENT NO VIOLATIONS  \n",
       "Creole                                                           4.000000  \n",
       "Chinese/Cuban                                                    3.636364  \n",
       "Barbecue                                                         3.125000  \n",
       "Soups & Sandwiches                                               3.076923  \n",
       "Continental                                                      2.898551  \n",
       "Other                                                            2.554745  \n",
       "Peruvian                                                         2.325581  \n",
       "Russian                                                          2.285714  \n",
       "French                                                           2.166667  \n",
       "Bangladeshi                                                      2.013423  \n",
       "Tapas                                                            2.000000  \n",
       "Soul Food                                                        1.923077  \n",
       "Tex-Mex                                                          1.838235  \n",
       "Turkish                                                          1.714286  \n",
       "Hamburgers                                                       1.675042  \n",
       "Vietnamese/Cambodian/Malaysia                                    1.657459  \n",
       "Bakery                                                           1.609658  \n",
       "Asian                                                            1.589404  \n",
       "Delicatessen                                                     1.555870  \n",
       "Chinese                                                          1.547064  \n",
       "Pizza/Italian                                                    1.447777  \n",
       "Café/Coffee/Tea                                                  1.438849  \n",
       "Sandwiches/Salads/Mixed Buffet                                   1.436782  \n",
       "Salads                                                           1.428571  \n",
       "Bagels/Pretzels                                                  1.423488  \n",
       "Sandwiches                                                       1.420959  \n",
       "Irish                                                            1.403509  \n",
       "Middle Eastern                                                   1.392758  \n",
       "Thai                                                             1.369863  \n",
       "American                                                         1.333753  \n",
       "...                                                                   ...  \n",
       "Pizza                                                            1.175894  \n",
       "Bottled beverages, including water, sodas, juic...               1.098901  \n",
       "Donuts                                                           1.086957  \n",
       "Korean                                                           1.027397  \n",
       "Japanese                                                         0.964436  \n",
       "Mexican                                                          0.911854  \n",
       "Ice Cream, Gelato, Yogurt, Ices                                  0.909091  \n",
       "Pakistani                                                        0.900901  \n",
       "Jewish/Kosher                                                    0.887574  \n",
       "Caribbean                                                        0.884354  \n",
       "Eastern European                                                 0.869565  \n",
       "Filipino                                                         0.847458  \n",
       "Mediterranean                                                    0.824176  \n",
       "Indian                                                           0.823045  \n",
       "Chinese/Japanese                                                 0.704225  \n",
       "Spanish                                                          0.692695  \n",
       "African                                                          0.561798  \n",
       "Vegetarian                                                       0.485437  \n",
       "English                                                          0.000000  \n",
       "Polish                                                           0.000000  \n",
       "Seafood                                                          0.000000  \n",
       "Hotdogs                                                          0.000000  \n",
       "Pancakes/Waffles                                                 0.000000  \n",
       "Not Listed/Not Applicable                                        0.000000  \n",
       "Steak                                                            0.000000  \n",
       "Cajun                                                            0.000000  \n",
       "Brazilian                                                        0.000000  \n",
       "Moroccan                                                         0.000000  \n",
       "Armenian                                                         0.000000  \n",
       "Ethiopian                                                        0.000000  \n",
       "\n",
       "[66 rows x 4 columns]"
      ]
     },
     "execution_count": 12,
     "metadata": {},
     "output_type": "execute_result"
    }
   ],
   "source": [
    "mask = (df['VIOLATION CODE']).notnull()\n",
    "violations = df[mask]\n",
    "\n",
    "cuisine_violations = violations['CUISINE DESCRIPTION'].value_counts()\n",
    "\n",
    "total_cuisine = pd.concat([cuisine_violations , cuisine_no_violations], axis = 1)\n",
    "\n",
    "\n",
    "total_cuisine.columns = ['VIOLATIONS', 'NO VIOLATIONS']\n",
    "total_cuisine = total_cuisine.fillna(0)\n",
    "total_cuisine['TOTAL INSTANCES'] = total_cuisine['VIOLATIONS'] + total_cuisine['NO VIOLATIONS']\n",
    "\n",
    "new_mask = (total_cuisine['TOTAL INSTANCES'] >= 20)\n",
    "total_cuisine = total_cuisine[new_mask]\n",
    "total_cuisine['PERCENT NO VIOLATIONS'] = total_cuisine['NO VIOLATIONS']*100 / total_cuisine['TOTAL INSTANCES']\n",
    "total_cuisine.sort(['PERCENT NO VIOLATIONS'], ascending=False)"
   ]
  },
  {
   "cell_type": "markdown",
   "metadata": {},
   "source": [
    "What are the most common violations in each borough"
   ]
  },
  {
   "cell_type": "markdown",
   "metadata": {},
   "source": [
    "In our approach we used the crosstab() function to calculate the number of occurrences for each violation description by borough. Next we transposed the axes using stack() & unstack(). Then we created a dataframe called mostcommon that provides the most common violation in each borough along with its count."
   ]
  },
  {
   "cell_type": "code",
   "execution_count": 13,
   "metadata": {
    "collapsed": false
   },
   "outputs": [
    {
     "data": {
      "text/html": [
       "<div>\n",
       "<table border=\"1\" class=\"dataframe\">\n",
       "  <thead>\n",
       "    <tr style=\"text-align: right;\">\n",
       "      <th></th>\n",
       "      <th>Most Common Complaint</th>\n",
       "      <th>Number of Complaints</th>\n",
       "    </tr>\n",
       "    <tr>\n",
       "      <th>BORO</th>\n",
       "      <th></th>\n",
       "      <th></th>\n",
       "    </tr>\n",
       "  </thead>\n",
       "  <tbody>\n",
       "    <tr>\n",
       "      <th>BRONX</th>\n",
       "      <td>Non-food contact surface improperly constructe...</td>\n",
       "      <td>500</td>\n",
       "    </tr>\n",
       "    <tr>\n",
       "      <th>BROOKLYN</th>\n",
       "      <td>Non-food contact surface improperly constructe...</td>\n",
       "      <td>1485</td>\n",
       "    </tr>\n",
       "    <tr>\n",
       "      <th>MANHATTAN</th>\n",
       "      <td>Non-food contact surface improperly constructe...</td>\n",
       "      <td>2417</td>\n",
       "    </tr>\n",
       "    <tr>\n",
       "      <th>QUEENS</th>\n",
       "      <td>Non-food contact surface improperly constructe...</td>\n",
       "      <td>1416</td>\n",
       "    </tr>\n",
       "    <tr>\n",
       "      <th>STATEN ISLAND</th>\n",
       "      <td>Non-food contact surface improperly constructe...</td>\n",
       "      <td>230</td>\n",
       "    </tr>\n",
       "  </tbody>\n",
       "</table>\n",
       "</div>"
      ],
      "text/plain": [
       "                                           Most Common Complaint  \\\n",
       "BORO                                                               \n",
       "BRONX          Non-food contact surface improperly constructe...   \n",
       "BROOKLYN       Non-food contact surface improperly constructe...   \n",
       "MANHATTAN      Non-food contact surface improperly constructe...   \n",
       "QUEENS         Non-food contact surface improperly constructe...   \n",
       "STATEN ISLAND  Non-food contact surface improperly constructe...   \n",
       "\n",
       "               Number of Complaints  \n",
       "BORO                                 \n",
       "BRONX                           500  \n",
       "BROOKLYN                       1485  \n",
       "MANHATTAN                      2417  \n",
       "QUEENS                         1416  \n",
       "STATEN ISLAND                   230  "
      ]
     },
     "execution_count": 13,
     "metadata": {},
     "output_type": "execute_result"
    }
   ],
   "source": [
    "violations = pd.crosstab(df['BORO'], df['VIOLATION DESCRIPTION']).query('BORO != [\"Missing\"]')\n",
    "vstack = violations.stack()\n",
    "violations2 = vstack.unstack('BORO')\n",
    "mostcommon = DataFrame({'Most Common Complaint':violations2.idxmax(),'Number of Complaints':violations2.max()}) \n",
    "mostcommon"
   ]
  },
  {
   "cell_type": "markdown",
   "metadata": {},
   "source": [
    "What are the most common violations per borough, after normalizing for the relative abundance of each violation? "
   ]
  },
  {
   "cell_type": "markdown",
   "metadata": {},
   "source": [
    "Building on our answer from above, we created a series called vtotals that provided a count of violations by violation description. Next we added this column to our dataframe violations2 from the previous question and divided the whole dataframe by that column. After removing the column corresponding to vtotals, we created a new dataframe called mostcommon2 that provides the max value and corresponding index (or violation description) for each borough."
   ]
  },
  {
   "cell_type": "code",
   "execution_count": 14,
   "metadata": {
    "collapsed": false
   },
   "outputs": [
    {
     "data": {
      "text/html": [
       "<div>\n",
       "<table border=\"1\" class=\"dataframe\">\n",
       "  <thead>\n",
       "    <tr style=\"text-align: right;\">\n",
       "      <th></th>\n",
       "      <th>Most Common Complaint</th>\n",
       "      <th>Number of Complaints</th>\n",
       "    </tr>\n",
       "    <tr>\n",
       "      <th>BORO</th>\n",
       "      <th></th>\n",
       "      <th></th>\n",
       "    </tr>\n",
       "  </thead>\n",
       "  <tbody>\n",
       "    <tr>\n",
       "      <th>BRONX</th>\n",
       "      <td>Unprotected food re-served.</td>\n",
       "      <td>0.500000</td>\n",
       "    </tr>\n",
       "    <tr>\n",
       "      <th>BROOKLYN</th>\n",
       "      <td>Precooked potentially hazardous food from comm...</td>\n",
       "      <td>0.714286</td>\n",
       "    </tr>\n",
       "    <tr>\n",
       "      <th>MANHATTAN</th>\n",
       "      <td>Out-of package sale of tobacco products observed.</td>\n",
       "      <td>1.000000</td>\n",
       "    </tr>\n",
       "    <tr>\n",
       "      <th>QUEENS</th>\n",
       "      <td>Caloric content range (minimum to maximum) not...</td>\n",
       "      <td>1.000000</td>\n",
       "    </tr>\n",
       "    <tr>\n",
       "      <th>STATEN ISLAND</th>\n",
       "      <td>Eggs found dirty/cracked; liquid, frozen or po...</td>\n",
       "      <td>0.090909</td>\n",
       "    </tr>\n",
       "  </tbody>\n",
       "</table>\n",
       "</div>"
      ],
      "text/plain": [
       "                                           Most Common Complaint  \\\n",
       "BORO                                                               \n",
       "BRONX                                Unprotected food re-served.   \n",
       "BROOKLYN       Precooked potentially hazardous food from comm...   \n",
       "MANHATTAN      Out-of package sale of tobacco products observed.   \n",
       "QUEENS         Caloric content range (minimum to maximum) not...   \n",
       "STATEN ISLAND  Eggs found dirty/cracked; liquid, frozen or po...   \n",
       "\n",
       "               Number of Complaints  \n",
       "BORO                                 \n",
       "BRONX                      0.500000  \n",
       "BROOKLYN                   0.714286  \n",
       "MANHATTAN                  1.000000  \n",
       "QUEENS                     1.000000  \n",
       "STATEN ISLAND              0.090909  "
      ]
     },
     "execution_count": 14,
     "metadata": {},
     "output_type": "execute_result"
    }
   ],
   "source": [
    "vtotals = df['VIOLATION DESCRIPTION'].value_counts()\n",
    "violations2['VIOLATION FREQUENCY'] = vtotals\n",
    "norm = violations2.div(violations2['VIOLATION FREQUENCY'], axis='index')\n",
    "normalized = norm.drop('VIOLATION FREQUENCY', 1)\n",
    "mostcommon2 = DataFrame({'Most Common Complaint':normalized.idxmax(),'Number of Complaints':normalized.max()}) \n",
    "mostcommon2\n",
    "\n"
   ]
  },
  {
   "cell_type": "markdown",
   "metadata": {},
   "source": [
    "How many phone area codes correspond to a single zipcode"
   ]
  },
  {
   "cell_type": "markdown",
   "metadata": {},
   "source": [
    "For this question, we used the duplicate dropping method twice. First, we copied a new data frame with just zipcode and phone number, then dropped duplicates of phone numbers. Phone numbers and zip codes have a many to one relationship. One zip code can have many phone numbers, but each phone number belongs to one and only one restaurant, hence belongs solely to a unique zip code. Dropping duplicates of phone number would give us one row per restaurant in the new dataframe. Next, a mask was created to ensure the cell values were legitimately numbers. Spaces were removed, since there were phone numbers in the format 'XXX YYY ZZZZ' in the dataset, as opposed 'XXXYYYZZZZ'. We finally took the first 3 digits to be areacode and mapped them back to phone. At this point, it was a matter of dropping duplicates again. Dropping duplicate area codes gave us the area codes that matched up uniquely with zipcodes."
   ]
  },
  {
   "cell_type": "code",
   "execution_count": 15,
   "metadata": {
    "collapsed": false
   },
   "outputs": [
    {
     "data": {
      "text/plain": [
       "54"
      ]
     },
     "execution_count": 15,
     "metadata": {},
     "output_type": "execute_result"
    }
   ],
   "source": [
    "newdf = df[['ZIPCODE','PHONE']].copy()\n",
    "newdf = newdf.drop_duplicates(subset='PHONE')\n",
    "mask = newdf['PHONE'].str.contains('^[1-9]')\n",
    "newdf = newdf[mask]\n",
    "newdf['PHONE'].replace(regex=True,inplace=True,to_replace=r'\\D',value=r'')\n",
    "newdf.head(2)\n",
    "newdf['PHONE'] = newdf['PHONE'].map(lambda x: str(x)[0:3])\n",
    "newdf = newdf.drop_duplicates(subset='PHONE')\n",
    "newdf\n",
    "len(newdf['PHONE'])"
   ]
  },
  {
   "cell_type": "markdown",
   "metadata": {},
   "source": [
    "Find common misspellings of street names."
   ]
  },
  {
   "cell_type": "markdown",
   "metadata": {},
   "source": [
    "For this question, we created a STREET TYPE column by stripping street of spaces, splitting by space, then grabbing the last word. We then created a STREET BASE column by returning words minus the last word if it contains more than 1 word, else return NaN. Next, we created a STREET BASE & ZIP column that adds the street base and zip code columns together. We combined the 3 columns by creating an empty dataframe and adding each column into it, removing NA's using dropna and duplicates using drop_duplicates. We merged the table with itself on 'street base & zip' and masked the table where the street types are not the same. We then made a crosstab of the 2 street types and returned the max value index for each of the street types indicated."
   ]
  },
  {
   "cell_type": "code",
   "execution_count": 16,
   "metadata": {
    "collapsed": false
   },
   "outputs": [
    {
     "data": {
      "text/plain": [
       "'BLVD'"
      ]
     },
     "execution_count": 16,
     "metadata": {},
     "output_type": "execute_result"
    }
   ],
   "source": [
    "df['STREET TYPE'] = df['STREET'].apply(lambda x : x.strip(\" \").split(\" \")[-1])\n",
    "\n",
    "def get_streetbase(x):\n",
    "    if len(x.strip(\" \").split(\" \")) > 1:\n",
    "        return \" \".join(x.strip(\" \").split(\" \")[0:len(x.strip(\" \").split(\" \"))-1])\n",
    "    else:\n",
    "        return NaN\n",
    "df['STREET BASE'] = df['STREET'].apply(get_streetbase)\n",
    "\n",
    "df['STREET BASE & ZIP'] = df['STREET BASE'] + ' ' + df['ZIPCODE']\n",
    "\n",
    "streetname_table = pd.DataFrame()\n",
    "streetname_table['street type'] = df['STREET TYPE']\n",
    "streetname_table['street base'] = df['STREET BASE']\n",
    "streetname_table['street base & zip'] = df['STREET BASE & ZIP']\n",
    "streetname_table.dropna(how='any',subset=['street base'],inplace=True)\n",
    "streetname_table=streetname_table.drop_duplicates()\n",
    "\n",
    "merge = pd.merge(streetname_table, streetname_table,on='street base & zip')\n",
    "\n",
    "mask = (merge['street type_x'] != merge['street type_y'])\n",
    "streetname_table_multitypes=merge[mask]\n",
    "\n",
    "street_type_lookup=pd.crosstab(streetname_table_multitypes['street type_x'], [streetname_table_multitypes['street type_y']])\n",
    "\n",
    "street_type_lookup['AVE'].idxmax()\n",
    "street_type_lookup['ST'].idxmax()\n",
    "street_type_lookup['RD'].idxmax()\n",
    "street_type_lookup['PL'].idxmax()\n",
    "street_type_lookup['BOULEARD'].idxmax()\n",
    "street_type_lookup['BULEVARD'].idxmax()\n",
    "\n"
   ]
  },
  {
   "cell_type": "code",
   "execution_count": null,
   "metadata": {
    "collapsed": true
   },
   "outputs": [],
   "source": []
  }
 ],
 "metadata": {
  "kernelspec": {
   "display_name": "Python 2",
   "language": "python",
   "name": "python2"
  },
  "language_info": {
   "codemirror_mode": {
    "name": "ipython",
    "version": 2
   },
   "file_extension": ".py",
   "mimetype": "text/x-python",
   "name": "python",
   "nbconvert_exporter": "python",
   "pygments_lexer": "ipython2",
   "version": "2.7.10"
  }
 },
 "nbformat": 4,
 "nbformat_minor": 0
}
