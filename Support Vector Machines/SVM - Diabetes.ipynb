{
 "cells": [
  {
   "cell_type": "markdown",
   "metadata": {},
   "source": [
    "## Diabetes classiﬁcation using support vector machines\n",
    "\n",
    "Apply a linear SVM, using the scikit-SVM, for the Pima Indian Women diabetes detection problem on the standardized dataset."
   ]
  },
  {
   "cell_type": "code",
   "execution_count": 2,
   "metadata": {
    "collapsed": false
   },
   "outputs": [
    {
     "name": "stdout",
     "output_type": "stream",
     "text": [
      "Populating the interactive namespace from numpy and matplotlib\n"
     ]
    }
   ],
   "source": [
    "import pandas as pd\n",
    "from sklearn import svm, grid_search\n",
    "from sklearn.svm import SVC\n",
    "from sklearn.grid_search import GridSearchCV\n",
    "from sklearn.metrics import f1_score\n",
    "from sklearn.metrics import confusion_matrix\n",
    "from sklearn.metrics import accuracy_score\n",
    "import numpy as np\n",
    "from sklearn.tree import DecisionTreeRegressor\n",
    "from sklearn.svm import SVR\n",
    "from sklearn.metrics import mean_squared_error\n",
    "import matplotlib.pyplot as plt\n",
    "%pylab inline"
   ]
  },
  {
   "cell_type": "code",
   "execution_count": 4,
   "metadata": {
    "collapsed": true
   },
   "outputs": [],
   "source": [
    "train = pd.read_csv('diabetes_train-std.csv')\n",
    "test = pd.read_csv('diabetes_test-std.csv')\n",
    "\n",
    "X_train = train.drop('classvariable', 1)\n",
    "y_train = train['classvariable']\n",
    "X_test = test.drop('classvariable', 1)\n",
    "y_test = test['classvariable']"
   ]
  },
  {
   "cell_type": "code",
   "execution_count": 5,
   "metadata": {
    "collapsed": false
   },
   "outputs": [
    {
     "name": "stdout",
     "output_type": "stream",
     "text": [
      "{'C': [0.001, 0.006, 0.011, 0.016, 0.021, 0.026, 0.031, 0.036, 0.041, 0.046, 0.051, 0.056, 0.061, 0.066, 0.071, 0.076, 0.081, 0.086, 0.091, 0.096, 0.101, 0.106, 0.111, 0.116, 0.121, 0.126, 0.131, 0.136, 0.141, 0.146, 0.151, 0.156, 0.161, 0.166, 0.171, 0.176, 0.181, 0.186, 0.191, 0.196, 0.201, 0.206, 0.211, 0.216, 0.221, 0.226, 0.231, 0.236, 0.241, 0.246, 0.251, 0.256, 0.261, 0.266, 0.271, 0.276, 0.281, 0.286, 0.291, 0.296, 0.301, 0.306, 0.311, 0.316, 0.321, 0.326, 0.331, 0.336, 0.341, 0.346, 0.351, 0.356, 0.361, 0.366, 0.371, 0.376, 0.381, 0.386, 0.391, 0.396, 0.401, 0.406, 0.411, 0.416, 0.421, 0.426, 0.431, 0.436, 0.441, 0.446, 0.451, 0.456, 0.461, 0.466, 0.471, 0.476, 0.481, 0.486, 0.491, 0.496, 0.501, 0.506, 0.511, 0.516, 0.521, 0.526, 0.531, 0.536, 0.541, 0.546, 0.551, 0.556, 0.561, 0.566, 0.571, 0.576, 0.581, 0.586, 0.591, 0.596, 0.601, 0.606, 0.611, 0.616, 0.621, 0.626, 0.631, 0.636, 0.641, 0.646, 0.651, 0.656, 0.661, 0.666, 0.671, 0.676, 0.681, 0.686, 0.691, 0.696, 0.701, 0.706, 0.711, 0.716, 0.721, 0.726, 0.731, 0.736, 0.741, 0.746, 0.751, 0.756, 0.761, 0.766, 0.771, 0.776, 0.781, 0.786, 0.791, 0.796, 0.801, 0.806, 0.811, 0.816, 0.821, 0.826, 0.831, 0.836, 0.841, 0.846, 0.851, 0.856, 0.861, 0.866, 0.871, 0.876, 0.881, 0.886, 0.891, 0.896, 0.901, 0.906, 0.911, 0.916, 0.921, 0.926, 0.931, 0.936, 0.941, 0.946, 0.951, 0.956, 0.961, 0.966, 0.971, 0.976, 0.981, 0.986, 0.991, 0.996]}\n"
     ]
    }
   ],
   "source": [
    "#Linear  SVM\n",
    "params = {'C': [float(i)/1000 for i in range(1,1000,5)]}\n",
    "print params"
   ]
  },
  {
   "cell_type": "code",
   "execution_count": 6,
   "metadata": {
    "collapsed": true
   },
   "outputs": [],
   "source": [
    "linear_svc = svm.SVC(kernel='linear')\n",
    "clf = grid_search.GridSearchCV(linear_svc, param_grid = params, cv =10)\n",
    "linear_model = clf.fit(X_train,y_train)"
   ]
  },
  {
   "cell_type": "code",
   "execution_count": 7,
   "metadata": {
    "collapsed": false
   },
   "outputs": [
    {
     "data": {
      "text/html": [
       "<div>\n",
       "<table border=\"1\" class=\"dataframe\">\n",
       "  <thead>\n",
       "    <tr style=\"text-align: right;\">\n",
       "      <th></th>\n",
       "      <th>0</th>\n",
       "      <th>1</th>\n",
       "    </tr>\n",
       "  </thead>\n",
       "  <tbody>\n",
       "    <tr>\n",
       "      <th>0</th>\n",
       "      <td>223</td>\n",
       "      <td>22</td>\n",
       "    </tr>\n",
       "    <tr>\n",
       "      <th>1</th>\n",
       "      <td>49</td>\n",
       "      <td>63</td>\n",
       "    </tr>\n",
       "  </tbody>\n",
       "</table>\n",
       "</div>"
      ],
      "text/plain": [
       "     0   1\n",
       "0  223  22\n",
       "1   49  63"
      ]
     },
     "execution_count": 7,
     "metadata": {},
     "output_type": "execute_result"
    }
   ],
   "source": [
    "predict_linear = linear_model.predict(X_test)\n",
    "pd.DataFrame(confusion_matrix(y_test,predict_linear))"
   ]
  },
  {
   "cell_type": "code",
   "execution_count": 8,
   "metadata": {
    "collapsed": false
   },
   "outputs": [
    {
     "name": "stdout",
     "output_type": "stream",
     "text": [
      "Accuracy:  0.801120448179\n",
      "Mean Error Rate:  0.198879551821\n",
      "{'C': 0.011}\n"
     ]
    }
   ],
   "source": [
    "print \"Accuracy: \",accuracy_score(y_test,predict_linear)\n",
    "print \"Mean Error Rate: \",1-accuracy_score(y_test,predict_linear)\n",
    "print linear_model.best_params_"
   ]
  },
  {
   "cell_type": "markdown",
   "metadata": {},
   "source": [
    "Repeat but now using a Gaussian radial basis kernel."
   ]
  },
  {
   "cell_type": "markdown",
   "metadata": {},
   "source": [
    "Listed above are the accuracy, mean error rate and best cost penalty, C, for this classifier. The best C of 0.011 was chosen by 10-fold cross validation."
   ]
  },
  {
   "cell_type": "code",
   "execution_count": 9,
   "metadata": {
    "collapsed": false
   },
   "outputs": [
    {
     "name": "stdout",
     "output_type": "stream",
     "text": [
      "{'C': [0.01, 0.06, 0.11, 0.16, 0.21, 0.26, 0.31, 0.36, 0.41, 0.46, 0.51, 0.56, 0.61, 0.66, 0.71, 0.76, 0.81, 0.86, 0.91, 0.96, 1.01, 1.06, 1.11, 1.16, 1.21, 1.26, 1.31, 1.36, 1.41, 1.46, 1.51, 1.56, 1.61, 1.66, 1.71, 1.76, 1.81, 1.86, 1.91, 1.96, 2.01, 2.06, 2.11, 2.16, 2.21, 2.26, 2.31, 2.36, 2.41, 2.46, 2.51, 2.56, 2.61, 2.66, 2.71, 2.76, 2.81, 2.86, 2.91, 2.96, 3.01, 3.06, 3.11, 3.16, 3.21, 3.26, 3.31, 3.36, 3.41, 3.46, 3.51, 3.56, 3.61, 3.66, 3.71, 3.76, 3.81, 3.86, 3.91, 3.96, 4.01, 4.06, 4.11, 4.16, 4.21, 4.26, 4.31, 4.36, 4.41, 4.46, 4.51, 4.56, 4.61, 4.66, 4.71, 4.76, 4.81, 4.86, 4.91, 4.96, 5.01, 5.06, 5.11, 5.16, 5.21, 5.26, 5.31, 5.36, 5.41, 5.46, 5.51, 5.56, 5.61, 5.66, 5.71, 5.76, 5.81, 5.86, 5.91, 5.96, 6.01, 6.06, 6.11, 6.16, 6.21, 6.26, 6.31, 6.36, 6.41, 6.46, 6.51, 6.56, 6.61, 6.66, 6.71, 6.76, 6.81, 6.86, 6.91, 6.96, 7.01, 7.06, 7.11, 7.16, 7.21, 7.26, 7.31, 7.36, 7.41, 7.46, 7.51, 7.56, 7.61, 7.66, 7.71, 7.76, 7.81, 7.86, 7.91, 7.96, 8.01, 8.06, 8.11, 8.16, 8.21, 8.26, 8.31, 8.36, 8.41, 8.46, 8.51, 8.56, 8.61, 8.66, 8.71, 8.76, 8.81, 8.86, 8.91, 8.96, 9.01, 9.06, 9.11, 9.16, 9.21, 9.26, 9.31, 9.36, 9.41, 9.46, 9.51, 9.56, 9.61, 9.66, 9.71, 9.76, 9.81, 9.86, 9.91, 9.96]}\n"
     ]
    }
   ],
   "source": [
    "#Gaussian SVM\n",
    "params = {'C': [float(i)/100 for i in range(1,1000,5)]}\n",
    "print params"
   ]
  },
  {
   "cell_type": "code",
   "execution_count": 10,
   "metadata": {
    "collapsed": true
   },
   "outputs": [],
   "source": [
    "gaussian_svc = svm.SVC(kernel='rbf')\n",
    "clf = grid_search.GridSearchCV(gaussian_svc, param_grid = params, cv =10)\n",
    "gaussian_model = clf.fit(X_train,y_train)"
   ]
  },
  {
   "cell_type": "code",
   "execution_count": 11,
   "metadata": {
    "collapsed": false
   },
   "outputs": [
    {
     "data": {
      "text/html": [
       "<div>\n",
       "<table border=\"1\" class=\"dataframe\">\n",
       "  <thead>\n",
       "    <tr style=\"text-align: right;\">\n",
       "      <th></th>\n",
       "      <th>0</th>\n",
       "      <th>1</th>\n",
       "    </tr>\n",
       "  </thead>\n",
       "  <tbody>\n",
       "    <tr>\n",
       "      <th>0</th>\n",
       "      <td>226</td>\n",
       "      <td>19</td>\n",
       "    </tr>\n",
       "    <tr>\n",
       "      <th>1</th>\n",
       "      <td>50</td>\n",
       "      <td>62</td>\n",
       "    </tr>\n",
       "  </tbody>\n",
       "</table>\n",
       "</div>"
      ],
      "text/plain": [
       "     0   1\n",
       "0  226  19\n",
       "1   50  62"
      ]
     },
     "execution_count": 11,
     "metadata": {},
     "output_type": "execute_result"
    }
   ],
   "source": [
    "predict_gaussian = gaussian_model.predict(X_test)\n",
    "pd.DataFrame(confusion_matrix(y_test,predict_gaussian))"
   ]
  },
  {
   "cell_type": "code",
   "execution_count": 12,
   "metadata": {
    "collapsed": false
   },
   "outputs": [
    {
     "name": "stdout",
     "output_type": "stream",
     "text": [
      "Accuracy:  0.806722689076\n",
      "Mean Error Rate:  0.193277310924\n",
      "{'C': 0.16}\n"
     ]
    }
   ],
   "source": [
    "print \"Accuracy: \",accuracy_score(y_test,predict_gaussian)\n",
    "print \"Mean Error Rate: \",1-accuracy_score(y_test,predict_gaussian)\n",
    "print gaussian_model.best_params_"
   ]
  },
  {
   "cell_type": "markdown",
   "metadata": {},
   "source": [
    "Listed above are the accuracy, mean error rate and best cost penalty, C, for this classifier. The best C of 0.16 was chosen by 10-fold cross validation."
   ]
  }
 ],
 "metadata": {
  "kernelspec": {
   "display_name": "Python 2",
   "language": "python",
   "name": "python2"
  },
  "language_info": {
   "codemirror_mode": {
    "name": "ipython",
    "version": 2
   },
   "file_extension": ".py",
   "mimetype": "text/x-python",
   "name": "python",
   "nbconvert_exporter": "python",
   "pygments_lexer": "ipython2",
   "version": "2.7.10"
  }
 },
 "nbformat": 4,
 "nbformat_minor": 0
}
